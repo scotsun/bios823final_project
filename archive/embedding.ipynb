{
 "cells": [
  {
   "cell_type": "code",
   "execution_count": 1,
   "metadata": {},
   "outputs": [],
   "source": [
    "import pandas as pd\n",
    "import tensorflow as tf\n",
    "from tensorflow import keras\n",
    "from keras.layers import Dense, Concatenate, Input, Lambda, Reshape\n",
    "from keras.layers import Embedding, LSTM, TimeDistributed\n",
    "from keras import Model\n",
    "from keras.utils.vis_utils import plot_model\n",
    "from keras import backend as K\n",
    "\n",
    "def rescale(x):\n",
    "\tinput_value = x[0]\n",
    "\tembedding = x[1]\n",
    "\t## force cat_code 0 represent missing data\n",
    "\tmask = K.cast(input_value == -999, dtype=K.floatx())\n",
    "\treturn embedding * mask + tf.multiply(embedding, input_value) * (1 - mask)"
   ]
  },
  {
   "cell_type": "code",
   "execution_count": 8,
   "metadata": {},
   "outputs": [
    {
     "name": "stdout",
     "output_type": "stream",
     "text": [
      "cat\n",
      "cont\n"
     ]
    }
   ],
   "source": [
    "categorical_vars = {\"z\": 2}\n",
    "continuous_dim = 1\n",
    "needs_embed = [False]\n",
    "\n",
    "embedding_size = 5\n",
    "\n",
    "ins = []\n",
    "sub_models = []\n",
    "\n",
    "for cat_var, k in categorical_vars.items():\n",
    "\tprint(\"cat\")\n",
    "\t_input = Input(shape=(1,), name=cat_var)\n",
    "\tins.append(_input)\n",
    "\t_cat_embed = Embedding(k+1, embedding_size, input_length=1)(_input)\n",
    "\t_cat_embed = Reshape(target_shape=(embedding_size,))(_cat_embed)\n",
    "\t# use case\n",
    "\tfor i in range(3):\n",
    "\t\t_cat_embed = Dense(10)(_cat_embed)\n",
    "\tz = Dense(k-1)(_cat_embed)\n",
    "\tsub_models.append(z)\n",
    "\n",
    "scaled_embeds = []\n",
    "for i in range(continuous_dim):\n",
    "\tprint(\"cont\")\n",
    "\t_input = Input(shape=(1,))\n",
    "\tins.append(_input)\n",
    "\tif needs_embed[i]:\n",
    "\t\t_input_indct = Input(shape=(1,))\n",
    "\t\tins.append(_input_indct)\n",
    "\t\t_indct_embed = Embedding(2, embedding_size, input_length=1)(_input_indct)\n",
    "\t\t_indct_embed = Reshape(target_shape=(embedding_size,))(_indct_embed)\n",
    "\t\t_input = Lambda(rescale)((_input, _indct_embed))\n",
    "\n",
    "\tsub_models.append(_input)\n",
    "\n",
    "x = Concatenate()(sub_models)\n",
    "# for i in range(4):\n",
    "# \tx = Dense(50)(x)\n",
    "out = Dense(1, name=\"weights\")(x)\n",
    "model = Model(inputs=ins, outputs=out)"
   ]
  },
  {
   "cell_type": "code",
   "execution_count": 14,
   "metadata": {},
   "outputs": [
    {
     "name": "stdout",
     "output_type": "stream",
     "text": [
      "<class 'pandas.core.frame.DataFrame'>\n",
      "RangeIndex: 5000 entries, 0 to 4999\n",
      "Data columns (total 3 columns):\n",
      " #   Column  Non-Null Count  Dtype  \n",
      "---  ------  --------------  -----  \n",
      " 0   x       5000 non-null   float64\n",
      " 1   z       5000 non-null   float64\n",
      " 2   y       5000 non-null   float64\n",
      "dtypes: float64(3)\n",
      "memory usage: 117.3 KB\n"
     ]
    }
   ],
   "source": [
    "df = pd.read_csv(\"./simlated_data.csv\")\n",
    "df[\"z\"] = df[\"z\"].fillna(0)\n",
    "df[\"z\"] = df[\"z\"]\n",
    "df.info()"
   ]
  },
  {
   "cell_type": "code",
   "execution_count": 15,
   "metadata": {},
   "outputs": [
    {
     "data": {
      "text/plain": [
       "30.805468629556415"
      ]
     },
     "execution_count": 15,
     "metadata": {},
     "output_type": "execute_result"
    }
   ],
   "source": [
    "((df[\"y\"] - df[\"y\"].mean()) ** 2).mean()"
   ]
  },
  {
   "cell_type": "code",
   "execution_count": 19,
   "metadata": {},
   "outputs": [],
   "source": [
    "model.compile(optimizer=keras.optimizers.Adam(learning_rate=0.001), loss=\"mean_squared_error\")"
   ]
  },
  {
   "cell_type": "code",
   "execution_count": 22,
   "metadata": {},
   "outputs": [
    {
     "data": {
      "text/plain": [
       "<keras.callbacks.History at 0x7fdf6ef455a0>"
      ]
     },
     "execution_count": 22,
     "metadata": {},
     "output_type": "execute_result"
    }
   ],
   "source": [
    "model.fit(\n",
    "\tx=[df[\"z\"], df[\"x\"]], y=df[\"y\"], epochs=10, validation_split=0.1, verbose=0\n",
    ")"
   ]
  },
  {
   "cell_type": "code",
   "execution_count": 23,
   "metadata": {},
   "outputs": [
    {
     "data": {
      "text/plain": [
       "[array([[0.17955436],\n",
       "        [0.9430799 ]], dtype=float32),\n",
       " array([0.09139689], dtype=float32)]"
      ]
     },
     "execution_count": 23,
     "metadata": {},
     "output_type": "execute_result"
    }
   ],
   "source": [
    "model.get_layer(name=\"weights\").get_weights()\n",
    "# z, x, bias"
   ]
  },
  {
   "cell_type": "code",
   "execution_count": 29,
   "metadata": {},
   "outputs": [
    {
     "name": "stdout",
     "output_type": "stream",
     "text": [
      "157/157 [==============================] - 0s 1ms/step\n"
     ]
    }
   ],
   "source": [
    "yh = model.predict(x=[df[\"z\"], df[\"x\"]]).reshape(-1)"
   ]
  },
  {
   "cell_type": "code",
   "execution_count": 32,
   "metadata": {},
   "outputs": [
    {
     "data": {
      "text/plain": [
       "6.277243238398964"
      ]
     },
     "execution_count": 32,
     "metadata": {},
     "output_type": "execute_result"
    }
   ],
   "source": [
    "((yh - df[\"y\"].values)**2).mean()"
   ]
  },
  {
   "cell_type": "code",
   "execution_count": null,
   "metadata": {},
   "outputs": [],
   "source": []
  }
 ],
 "metadata": {
  "kernelspec": {
   "display_name": "Python 3.10.4 ('missingdata')",
   "language": "python",
   "name": "python3"
  },
  "language_info": {
   "codemirror_mode": {
    "name": "ipython",
    "version": 3
   },
   "file_extension": ".py",
   "mimetype": "text/x-python",
   "name": "python",
   "nbconvert_exporter": "python",
   "pygments_lexer": "ipython3",
   "version": "3.10.4"
  },
  "orig_nbformat": 4,
  "vscode": {
   "interpreter": {
    "hash": "5498173180f21b3a8393ad3fec54af51b8f992b05141d3db794d136f76fcbb38"
   }
  }
 },
 "nbformat": 4,
 "nbformat_minor": 2
}
